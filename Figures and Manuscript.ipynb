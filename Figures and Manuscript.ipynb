{
 "cells": [
  {
   "cell_type": "markdown",
   "id": "3a790cdd-4f2b-47f0-b5cf-7ee2f2127b24",
   "metadata": {},
   "source": [
    "**Figures and manuscript**"
   ]
  },
  {
   "cell_type": "code",
   "execution_count": 1,
   "id": "990d26b0-44ec-41a2-aacb-d1d581a0b097",
   "metadata": {},
   "outputs": [],
   "source": [
    "%matplotlib inline\n",
    "\n",
    "import matplotlib as mpl\n",
    "import matplotlib.pyplot as plt\n",
    "import pandas as pd\n",
    "import seaborn as sns"
   ]
  },
  {
   "cell_type": "markdown",
   "id": "218b7555-e1a3-4c0b-afb5-7d632dfd6cbe",
   "metadata": {},
   "source": [
    "# Data"
   ]
  },
  {
   "cell_type": "code",
   "execution_count": 2,
   "id": "8d7a0939-a829-446c-bc72-2b26c4d4a2ba",
   "metadata": {},
   "outputs": [
    {
     "data": {
      "text/html": [
       "<div>\n",
       "<style scoped>\n",
       "    .dataframe tbody tr th:only-of-type {\n",
       "        vertical-align: middle;\n",
       "    }\n",
       "\n",
       "    .dataframe tbody tr th {\n",
       "        vertical-align: top;\n",
       "    }\n",
       "\n",
       "    .dataframe thead th {\n",
       "        text-align: right;\n",
       "    }\n",
       "</style>\n",
       "<table border=\"1\" class=\"dataframe\">\n",
       "  <thead>\n",
       "    <tr style=\"text-align: right;\">\n",
       "      <th></th>\n",
       "      <th>input file name</th>\n",
       "      <th>correct diagnosis</th>\n",
       "      <th>gpt diagnosis</th>\n",
       "      <th>Score (0-5)</th>\n",
       "      <th>Rank</th>\n",
       "      <th>Score (Peter)</th>\n",
       "      <th>Score (Justin)</th>\n",
       "      <th>Score (Daniel)</th>\n",
       "      <th>Range</th>\n",
       "      <th>Src</th>\n",
       "    </tr>\n",
       "  </thead>\n",
       "  <tbody>\n",
       "    <tr>\n",
       "      <th>0</th>\n",
       "      <td>PMID_33471980-case.txt</td>\n",
       "      <td>Pregnancy-associated myocardial infarction, pr...</td>\n",
       "      <td>Most Likely Diagnosis: Peripartum cardiomyopat...</td>\n",
       "      <td>4.0</td>\n",
       "      <td>2.0</td>\n",
       "      <td>4.0</td>\n",
       "      <td>4.0</td>\n",
       "      <td>4</td>\n",
       "      <td>0</td>\n",
       "      <td>nar</td>\n",
       "    </tr>\n",
       "    <tr>\n",
       "      <th>1</th>\n",
       "      <td>PMID_33497551-case.txt</td>\n",
       "      <td>Mycobacterium tuberculosis meningitis</td>\n",
       "      <td>Most Likely Diagnosis: Paraneoplastic limbic e...</td>\n",
       "      <td>5.0</td>\n",
       "      <td>9.0</td>\n",
       "      <td>5.0</td>\n",
       "      <td>5.0</td>\n",
       "      <td>5</td>\n",
       "      <td>0</td>\n",
       "      <td>nar</td>\n",
       "    </tr>\n",
       "  </tbody>\n",
       "</table>\n",
       "</div>"
      ],
      "text/plain": [
       "          input file name                                  correct diagnosis   \n",
       "0  PMID_33471980-case.txt  Pregnancy-associated myocardial infarction, pr...  \\\n",
       "1  PMID_33497551-case.txt              Mycobacterium tuberculosis meningitis   \n",
       "\n",
       "                                       gpt diagnosis  Score (0-5)  Rank   \n",
       "0  Most Likely Diagnosis: Peripartum cardiomyopat...          4.0   2.0  \\\n",
       "1  Most Likely Diagnosis: Paraneoplastic limbic e...          5.0   9.0   \n",
       "\n",
       "   Score (Peter)  Score (Justin) Score (Daniel)  Range  Src  \n",
       "0            4.0             4.0              4      0  nar  \n",
       "1            5.0             5.0              5      0  nar  "
      ]
     },
     "execution_count": 2,
     "metadata": {},
     "output_type": "execute_result"
    }
   ],
   "source": [
    "cols_of_interest = ['input file name', 'correct diagnosis', 'gpt diagnosis', 'Score (0-5)', 'Rank', 'Score (Peter)', 'Score (Justin)', 'Score (Daniel)', 'Range']\n",
    "\n",
    "fpath_narrative = 'data/Table 1. ChatGPT4 Diagnosis - text without discussion - txt_cases_results.tsv'\n",
    "narrative = pd.read_csv(fpath_narrative, sep='\\t', usecols=cols_of_interest)\n",
    "narrative['Src'] = 'nar'\n",
    "narrative.head(2)"
   ]
  },
  {
   "cell_type": "code",
   "execution_count": 3,
   "id": "1f8d9e11-6659-4ce6-9e22-4f2379b0e56d",
   "metadata": {},
   "outputs": [
    {
     "data": {
      "text/html": [
       "<div>\n",
       "<style scoped>\n",
       "    .dataframe tbody tr th:only-of-type {\n",
       "        vertical-align: middle;\n",
       "    }\n",
       "\n",
       "    .dataframe tbody tr th {\n",
       "        vertical-align: top;\n",
       "    }\n",
       "\n",
       "    .dataframe thead th {\n",
       "        text-align: right;\n",
       "    }\n",
       "</style>\n",
       "<table border=\"1\" class=\"dataframe\">\n",
       "  <thead>\n",
       "    <tr style=\"text-align: right;\">\n",
       "      <th></th>\n",
       "      <th>input file name</th>\n",
       "      <th>correct diagnosis</th>\n",
       "      <th>gpt diagnosis</th>\n",
       "      <th>Score (0-5)</th>\n",
       "      <th>Rank</th>\n",
       "      <th>Score (Peter)</th>\n",
       "      <th>Score (Justin)</th>\n",
       "      <th>Score (Daniel)</th>\n",
       "      <th>Range</th>\n",
       "      <th>Src</th>\n",
       "    </tr>\n",
       "  </thead>\n",
       "  <tbody>\n",
       "    <tr>\n",
       "      <th>0</th>\n",
       "      <td>PMID_33471980-phenopacket-based_query.txt</td>\n",
       "      <td>Pregnancy-associated myocardial infarction, pr...</td>\n",
       "      <td>Most likely diagnosis:   Peripartum cardiomyop...</td>\n",
       "      <td>3.0</td>\n",
       "      <td>1.0</td>\n",
       "      <td>3.0</td>\n",
       "      <td>3.0</td>\n",
       "      <td>3.0</td>\n",
       "      <td>0</td>\n",
       "      <td>ss</td>\n",
       "    </tr>\n",
       "    <tr>\n",
       "      <th>1</th>\n",
       "      <td>PMID_33497551-phenopacket-based_query.txt</td>\n",
       "      <td>Mycobacterium tuberculosis meningitis</td>\n",
       "      <td>The following diagnostic test was ordered: Hem...</td>\n",
       "      <td>3.0</td>\n",
       "      <td>-1.0</td>\n",
       "      <td>3.0</td>\n",
       "      <td>3.0</td>\n",
       "      <td>2.0</td>\n",
       "      <td>1</td>\n",
       "      <td>ss</td>\n",
       "    </tr>\n",
       "  </tbody>\n",
       "</table>\n",
       "</div>"
      ],
      "text/plain": [
       "                             input file name   \n",
       "0  PMID_33471980-phenopacket-based_query.txt  \\\n",
       "1  PMID_33497551-phenopacket-based_query.txt   \n",
       "\n",
       "                                   correct diagnosis   \n",
       "0  Pregnancy-associated myocardial infarction, pr...  \\\n",
       "1              Mycobacterium tuberculosis meningitis   \n",
       "\n",
       "                                       gpt diagnosis  Score (0-5)  Rank   \n",
       "0  Most likely diagnosis:   Peripartum cardiomyop...          3.0   1.0  \\\n",
       "1  The following diagnostic test was ordered: Hem...          3.0  -1.0   \n",
       "\n",
       "   Score (Peter)  Score (Justin)  Score (Daniel)  Range Src  \n",
       "0            3.0             3.0             3.0      0  ss  \n",
       "1            3.0             3.0             2.0      1  ss  "
      ]
     },
     "execution_count": 3,
     "metadata": {},
     "output_type": "execute_result"
    }
   ],
   "source": [
    "fpath_signs_symptoms = 'data/Table 2. ChatGPT4 Diagnosis - only age_sex_signs_symptoms - phenopacket_based_queries_results.tsv'\n",
    "signs_symptoms = pd.read_csv(fpath_signs_symptoms, sep='\\t', usecols=cols_of_interest)\n",
    "signs_symptoms['Src'] = 'ss'\n",
    "signs_symptoms.head(2)"
   ]
  },
  {
   "cell_type": "code",
   "execution_count": 4,
   "id": "b6ebec6f-467e-4a0a-997d-7b85e1f92e8b",
   "metadata": {},
   "outputs": [
    {
     "data": {
      "text/html": [
       "<div>\n",
       "<style scoped>\n",
       "    .dataframe tbody tr th:only-of-type {\n",
       "        vertical-align: middle;\n",
       "    }\n",
       "\n",
       "    .dataframe tbody tr th {\n",
       "        vertical-align: top;\n",
       "    }\n",
       "\n",
       "    .dataframe thead th {\n",
       "        text-align: right;\n",
       "    }\n",
       "</style>\n",
       "<table border=\"1\" class=\"dataframe\">\n",
       "  <thead>\n",
       "    <tr style=\"text-align: right;\">\n",
       "      <th></th>\n",
       "      <th>input file name</th>\n",
       "      <th>Src</th>\n",
       "      <th>Score</th>\n",
       "      <th>Rank</th>\n",
       "    </tr>\n",
       "  </thead>\n",
       "  <tbody>\n",
       "    <tr>\n",
       "      <th>0</th>\n",
       "      <td>PMID_33471980-case.txt</td>\n",
       "      <td>nar</td>\n",
       "      <td>4.0</td>\n",
       "      <td>2.0</td>\n",
       "    </tr>\n",
       "    <tr>\n",
       "      <th>0</th>\n",
       "      <td>PMID_33471980-phenopacket-based_query.txt</td>\n",
       "      <td>ss</td>\n",
       "      <td>3.0</td>\n",
       "      <td>1.0</td>\n",
       "    </tr>\n",
       "    <tr>\n",
       "      <th>1</th>\n",
       "      <td>PMID_33497551-phenopacket-based_query.txt</td>\n",
       "      <td>ss</td>\n",
       "      <td>3.0</td>\n",
       "      <td>-1.0</td>\n",
       "    </tr>\n",
       "    <tr>\n",
       "      <th>1</th>\n",
       "      <td>PMID_33497551-case.txt</td>\n",
       "      <td>nar</td>\n",
       "      <td>5.0</td>\n",
       "      <td>9.0</td>\n",
       "    </tr>\n",
       "    <tr>\n",
       "      <th>2</th>\n",
       "      <td>PMID_33503346-phenopacket-based_query.txt</td>\n",
       "      <td>ss</td>\n",
       "      <td>0.0</td>\n",
       "      <td>-1.0</td>\n",
       "    </tr>\n",
       "  </tbody>\n",
       "</table>\n",
       "</div>"
      ],
      "text/plain": [
       "                             input file name  Src  Score  Rank\n",
       "0                     PMID_33471980-case.txt  nar    4.0   2.0\n",
       "0  PMID_33471980-phenopacket-based_query.txt   ss    3.0   1.0\n",
       "1  PMID_33497551-phenopacket-based_query.txt   ss    3.0  -1.0\n",
       "1                     PMID_33497551-case.txt  nar    5.0   9.0\n",
       "2  PMID_33503346-phenopacket-based_query.txt   ss    0.0  -1.0"
      ]
     },
     "execution_count": 4,
     "metadata": {},
     "output_type": "execute_result"
    }
   ],
   "source": [
    "cols = ['input file name', 'Src', 'Score (0-5)', 'Rank']\n",
    "df = pd.concat([narrative[cols], signs_symptoms[cols]]).sort_index().rename(columns={'Score (0-5)':'Score'})\n",
    "df.head()"
   ]
  },
  {
   "cell_type": "markdown",
   "id": "89dcf816-e0ff-4c3c-9341-28c3091a6096",
   "metadata": {},
   "source": [
    "Skip the cases where the score is N/A"
   ]
  },
  {
   "cell_type": "code",
   "execution_count": 5,
   "id": "0a2ba619-5aaf-4e64-9655-481a91881b52",
   "metadata": {},
   "outputs": [
    {
     "name": "stdout",
     "output_type": "stream",
     "text": [
      "           input file name  Src  Score  Rank\n",
      "4   PMID_33596360-case.txt  nar    NaN   NaN\n",
      "79                     NaN   ss    NaN   NaN\n"
     ]
    }
   ],
   "source": [
    "print(df.loc[df.Score.isna()])\n",
    "df = df.loc[~df.Score.isna()]"
   ]
  },
  {
   "cell_type": "markdown",
   "id": "6c214140-cf2c-48de-b1e2-4aa1300664d6",
   "metadata": {},
   "source": [
    "Convert to `str`s"
   ]
  },
  {
   "cell_type": "code",
   "execution_count": 6,
   "id": "9e3e1b2b-0dcc-4980-ae07-7cfb1b86d585",
   "metadata": {},
   "outputs": [],
   "source": [
    "df = df.astype({'Score': int, 'Rank': int})"
   ]
  },
  {
   "cell_type": "markdown",
   "id": "9a076915-23db-4c87-b200-9e0651b5b806",
   "metadata": {},
   "source": [
    "# Plot histogram of scores"
   ]
  },
  {
   "cell_type": "code",
   "execution_count": 7,
   "id": "1892d63a-f397-4629-8184-acc8b0c253fa",
   "metadata": {},
   "outputs": [
    {
     "data": {
      "image/png": "[encoded data removed]",
      "text/plain": [
       "<Figure size 720x540 with 1 Axes>"
      ]
     },
     "metadata": {},
     "output_type": "display_data"
    }
   ],
   "source": [
    "fig, ax = plt.subplots(figsize=(6,4.5), dpi=120)\n",
    "\n",
    "data = df.astype({'Score': str}).groupby(['Src', 'Score']).size()\n",
    "data.name='Count'\n",
    "data = data.reset_index()\n",
    "\n",
    "sns.barplot(data=data, x='Score', y='Count', hue='Src', \n",
    "            palette=['#3465a4', '#fcaf3e'],# c.orange],\n",
    "            ax=ax)\n",
    "ax.grid(axis='y')\n",
    "ax.set(ylim=(0, 50))\n",
    "ax.legend_.set(title=None)\n",
    "ax.legend_.get_texts()[0].set(text='Narrative-based queries')\n",
    "ax.legend_.get_texts()[1].set(text='Feature-based queries')\n",
    "fig.tight_layout()\n",
    "fig.savefig('Fig2A.png')"
   ]
  },
  {
   "cell_type": "markdown",
   "id": "fb97ad2b-2e42-4f2d-958c-2eb6b75473f3",
   "metadata": {},
   "source": [
    "# Plot histogram of the ranks of the correct diagnoses"
   ]
  },
  {
   "cell_type": "code",
   "execution_count": 8,
   "id": "4d166c2e-bac2-4e90-891f-9f537bc10e36",
   "metadata": {},
   "outputs": [
    {
     "data": {
      "text/html": [
       "<div>\n",
       "<style scoped>\n",
       "    .dataframe tbody tr th:only-of-type {\n",
       "        vertical-align: middle;\n",
       "    }\n",
       "\n",
       "    .dataframe tbody tr th {\n",
       "        vertical-align: top;\n",
       "    }\n",
       "\n",
       "    .dataframe thead th {\n",
       "        text-align: right;\n",
       "    }\n",
       "</style>\n",
       "<table border=\"1\" class=\"dataframe\">\n",
       "  <thead>\n",
       "    <tr style=\"text-align: right;\">\n",
       "      <th></th>\n",
       "      <th>Src</th>\n",
       "      <th>Rank</th>\n",
       "      <th>RankLabel</th>\n",
       "    </tr>\n",
       "  </thead>\n",
       "  <tbody>\n",
       "    <tr>\n",
       "      <th>0</th>\n",
       "      <td>nar</td>\n",
       "      <td>2</td>\n",
       "      <td>2</td>\n",
       "    </tr>\n",
       "    <tr>\n",
       "      <th>1</th>\n",
       "      <td>nar</td>\n",
       "      <td>9</td>\n",
       "      <td>5-9</td>\n",
       "    </tr>\n",
       "  </tbody>\n",
       "</table>\n",
       "</div>"
      ],
      "text/plain": [
       "   Src  Rank RankLabel\n",
       "0  nar     2         2\n",
       "1  nar     9       5-9"
      ]
     },
     "execution_count": 8,
     "metadata": {},
     "output_type": "execute_result"
    }
   ],
   "source": [
    "ranks = df.loc[df.Score >= 4, ['Src', 'Rank']]\n",
    "rank_bins = [0, 1, 2, 3, 4, 9, 100]\n",
    "rank_labels = ['1', '2', '3', '4', '5-9', '>=10']\n",
    "\n",
    "ranks['RankLabel'] = pd.cut(ranks.Rank, bins=rank_bins, labels=rank_labels)\n",
    "ranks.head(2)"
   ]
  },
  {
   "cell_type": "code",
   "execution_count": 9,
   "id": "f8760b36-f4cb-4885-92db-63b0be7708e7",
   "metadata": {},
   "outputs": [
    {
     "data": {
      "image/png": "[encoded data removed]",
      "text/plain": [
       "<Figure size 720x540 with 1 Axes>"
      ]
     },
     "metadata": {},
     "output_type": "display_data"
    }
   ],
   "source": [
    "fig, ax = plt.subplots(figsize=(6,4.5), dpi=120)\n",
    "\n",
    "data = ranks.groupby(['Src', 'RankLabel']).size()\n",
    "data.name = 'Count'\n",
    "data = data.reset_index()\n",
    "\n",
    "sns.barplot(data=data, x='RankLabel', y='Count', hue='Src', \n",
    "            palette=['#3465a4', '#fcaf3e'],# c.orange],\n",
    "            ax=ax)\n",
    "ax.grid(axis='y')\n",
    "ax.set(xlabel='Rank', ylim=(0, 50))\n",
    "ax.legend_.set(title=None)\n",
    "ax.legend_.get_texts()[0].set(text='Narrative-based queries')\n",
    "ax.legend_.get_texts()[1].set(text='Feature-based queries')\n",
    "fig.tight_layout()\n",
    "fig.savefig('Fig2B.png')"
   ]
  },
  {
   "cell_type": "markdown",
   "id": "605d0c9e-c5de-4509-9f70-eb9b5ba93f97",
   "metadata": {},
   "source": [
    "# The entire figure"
   ]
  },
  {
   "cell_type": "code",
   "execution_count": 10,
   "id": "f2bb7890-5ab7-4140-96ff-5dceee14533f",
   "metadata": {},
   "outputs": [
    {
     "data": {
      "image/png": "[encoded data removed]",
      "text/plain": [
       "<Figure size 1440x540 with 2 Axes>"
      ]
     },
     "metadata": {},
     "output_type": "display_data"
    }
   ],
   "source": [
    "fig, (l, r) = plt.subplots(1, 2, figsize=(12, 4.5), dpi=120, sharey=True)\n",
    "\n",
    "# (A)\n",
    "data = df.astype({'Score': str}).groupby(['Src', 'Score']).size()\n",
    "data.name='Count'\n",
    "data = data.reset_index()\n",
    "\n",
    "sns.barplot(data=data, x='Score', y='Count', hue='Src', \n",
    "            palette=['#3465a4', '#fcaf3e'],\n",
    "            ax=l)\n",
    "l.grid(axis='y')\n",
    "l.set(ylim=(0, 50))\n",
    "l.legend_.set(visible=False)\n",
    "\n",
    "# (B)\n",
    "data = ranks.groupby(['Src', 'RankLabel']).size()\n",
    "data.name = 'Count'\n",
    "data = data.reset_index()\n",
    "\n",
    "sns.barplot(data=data, x='RankLabel', y='Count', hue='Src', \n",
    "            palette=['#3465a4', '#fcaf3e'],# c.orange],\n",
    "            ax=r)\n",
    "r.grid(axis='y')\n",
    "r.set(xlabel='Rank', ylabel=None)\n",
    "r.legend_.set(title=None)\n",
    "r.legend_.get_texts()[0].set(text='Narrative-based queries')\n",
    "r.legend_.get_texts()[1].set(text='Feature-based queries')\n",
    "fig.tight_layout()\n",
    "fig.savefig('Figure2.raw.svg')"
   ]
  },
  {
   "cell_type": "markdown",
   "id": "074fddfa-25ed-450b-a5b5-ac68480e85da",
   "metadata": {},
   "source": [
    "Postprocess in Inkscape to increase horizontal space between the panels and to add panel labels."
   ]
  },
  {
   "cell_type": "markdown",
   "id": "589f57a1-96e2-4538-a525-a4e44345a138",
   "metadata": {},
   "source": [
    "Done"
   ]
  }
 ],
 "metadata": {
  "kernelspec": {
   "display_name": "Playground (Python 3.10)",
   "language": "python",
   "name": "playground"
  },
  "language_info": {
   "codemirror_mode": {
    "name": "ipython",
    "version": 3
   },
   "file_extension": ".py",
   "mimetype": "text/x-python",
   "name": "python",
   "nbconvert_exporter": "python",
   "pygments_lexer": "ipython3",
   "version": "3.10.6"
  }
 },
 "nbformat": 4,
 "nbformat_minor": 5
}
